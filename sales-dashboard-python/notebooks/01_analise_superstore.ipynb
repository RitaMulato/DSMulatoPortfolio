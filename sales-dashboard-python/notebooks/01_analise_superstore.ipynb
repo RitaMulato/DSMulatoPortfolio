{
 "cells": [
  {
   "cell_type": "code",
   "execution_count": null,
   "id": "99ef6420",
   "metadata": {},
   "outputs": [],
   "source": [
    "import pandas as pd\n",
    "import matplotlib.pyplot as plt\n",
    "import seaborn as sns\n",
    "import plotly.express as px\n",
    "\n",
    "sns.set(style='whitegrid')"
   ]
  },
  {
   "cell_type": "code",
   "execution_count": null,
   "id": "4c315782",
   "metadata": {},
   "outputs": [],
   "source": [
    "df = pd.read_csv('../data/SampleSuperstore.csv', encoding='latin-1')\n",
    "df.head(10)"
   ]
  },
  {
   "cell_type": "code",
   "execution_count": null,
   "id": "db662b6e",
   "metadata": {},
   "outputs": [],
   "source": [
    "#read the last line of the file\n",
    "df.tail(10)"
   ]
  },
  {
   "cell_type": "code",
   "execution_count": null,
   "id": "ccb2586d",
   "metadata": {},
   "outputs": [],
   "source": [
    "#see the all category\n",
    "print(\"Categorias:\", df['Category'].unique())"
   ]
  },
  {
   "cell_type": "code",
   "execution_count": null,
   "id": "76b7c0fb",
   "metadata": {},
   "outputs": [],
   "source": [
    "df.info()"
   ]
  },
  {
   "cell_type": "code",
   "execution_count": null,
   "id": "15dc5df2",
   "metadata": {},
   "outputs": [],
   "source": [
    "df.describe()"
   ]
  },
  {
   "cell_type": "code",
   "execution_count": null,
   "id": "97fa6e39",
   "metadata": {},
   "outputs": [],
   "source": [
    "df.isnull().sum()"
   ]
  },
  {
   "cell_type": "code",
   "execution_count": null,
   "id": "97796ffe",
   "metadata": {},
   "outputs": [],
   "source": [
    "#Total the sales for category\n",
    "sales_category = df.groupby('Category')['Sales'].sum().sort_values(ascending=False)\n",
    "plt.figure(figsize=(8,5))\n",
    "sns.barplot(x=sales_category.index, y=sales_category.values)\n",
    "plt.title('Sales by Category')\n",
    "plt.xlabel('Category')\n",
    "plt.ylabel('Sales')\n",
    "plt.show()"
   ]
  },
  {
   "cell_type": "code",
   "execution_count": null,
   "id": "14ff149c",
   "metadata": {},
   "outputs": [],
   "source": [
    "state_profit = df.groupby('State')['Profit'].sum().sort_values()\n",
    "plt.figure(figsize=(10,8))\n",
    "#state_profit.plot(kind='barh', color='skyblue')\n",
    "#plt.title('State for Profit')\n",
    "#plt.xlabel('Total Profit')\n",
    "#plt.ylabel('State')\n",
    "\n",
    "sns.barplot(x=state_profit.values, y=state_profit.index, hue=state_profit.index, palette='viridis', legend=False )\n",
    "plt.title('State for Profit')\n",
    "plt.xlabel('Total Profit')\n",
    "plt.ylabel('State')\n",
    "plt.tight_layout()\n",
    "\n",
    "plt.show()\n"
   ]
  },
  {
   "cell_type": "code",
   "execution_count": null,
   "id": "47656eea",
   "metadata": {},
   "outputs": [],
   "source": [
    "#dynamic\n",
    "fig = px.scatter(df, x='Quantity', y='Profit', color='Category', hover_data=['Product Name'])\n",
    "fig.show()"
   ]
  },
  {
   "cell_type": "code",
   "execution_count": null,
   "id": "1f232f4c",
   "metadata": {},
   "outputs": [],
   "source": [
    "#The same output but static\n",
    "sns.scatterplot(data=df, x='Quantity', y='Profit', hue='Category')\n",
    "plt.show()"
   ]
  }
 ],
 "metadata": {
  "kernelspec": {
   "display_name": "Python 3",
   "language": "python",
   "name": "python3"
  },
  "language_info": {
   "codemirror_mode": {
    "name": "ipython",
    "version": 3
   },
   "file_extension": ".py",
   "mimetype": "text/x-python",
   "name": "python",
   "nbconvert_exporter": "python",
   "pygments_lexer": "ipython3",
   "version": "3.10.12"
  }
 },
 "nbformat": 4,
 "nbformat_minor": 5
}
